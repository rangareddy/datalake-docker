{
 "cells": [
  {
   "cell_type": "code",
   "execution_count": null,
   "id": "415e9dd8-dcd1-40ed-8ff2-6414796eccce",
   "metadata": {},
   "outputs": [],
   "source": [
    "import os\n",
    "from pyspark import SparkConf\n",
    "from pyspark.sql import SparkSession"
   ]
  },
  {
   "cell_type": "code",
   "execution_count": null,
   "id": "6d880b5a-4604-4dd5-94b8-125b4179373b",
   "metadata": {},
   "outputs": [],
   "source": [
    "# Create a Spark session\n",
    "conf = SparkConf().setAppName('Spark App').setMaster('spark://spark-master:7077')\n",
    "\n",
    "spark = SparkSession.builder \\\n",
    "    .config(conf=conf) \\\n",
    "    .config(\"spark.jars\", \"/opt/jars/hadoop-aws-3.3.4.jar,/opt/jars/aws-java-sdk-bundle-1.12.262.jar\") \\\n",
    "    .config(\"spark.hadoop.hive.metastore.uris\", \"thrift://hive-metastore:9083\") \\\n",
    "    .config(\"spark.hive.metastore.schema.verification\", \"false\") \\\n",
    "    .config(\"spark.hadoop.fs.s3a.endpoint\", os.environ[\"S3_ENDPOINT\"]) \\\n",
    "    .config(\"spark.hadoop.fs.s3a.access.key\", os.environ[\"AWS_ACCESS_KEY_ID\"]) \\\n",
    "    .config(\"spark.hadoop.fs.s3a.secret.key\", os.environ[\"AWS_SECRET_ACCESS_KEY\"]) \\\n",
    "    .config(\"spark.hadoop.fs.s3a.path.style.access\", \"true\") \\\n",
    "    .config(\"spark.hadoop.fs.s3a.impl\", \"org.apache.hadoop.fs.s3a.S3AFileSystem\") \\\n",
    "    .config(\"fs.s3a.connection.ssl.enabled\", \"false\") \\\n",
    "    .enableHiveSupport() \\\n",
    "    .getOrCreate()\n",
    "\n",
    "spark.sparkContext.setLogLevel(\"ERROR\")\n",
    "spark"
   ]
  },
  {
   "cell_type": "code",
   "execution_count": null,
   "id": "85fa3243-7606-41bd-ac5d-a270ed36ebf6",
   "metadata": {},
   "outputs": [],
   "source": [
    "spark.read.json(\"s3a://warehouse/employees.json\").show()"
   ]
  },
  {
   "cell_type": "code",
   "execution_count": null,
   "id": "060fca58-1aa7-4006-b39d-7f589786baab",
   "metadata": {},
   "outputs": [],
   "source": [
    "spark.sql(\"show databases\").show()"
   ]
  },
  {
   "cell_type": "code",
   "execution_count": null,
   "id": "4ba82b1f-a55d-46fc-892a-455c75d13183",
   "metadata": {},
   "outputs": [],
   "source": [
    "spark.sql(\"create table t1 (id int, name string)\")"
   ]
  },
  {
   "cell_type": "code",
   "execution_count": null,
   "id": "f6f7da59-84fb-4da6-9bd9-4f19d4d399c0",
   "metadata": {},
   "outputs": [],
   "source": [
    "spark.sql(\"insert into t1 values(1,'ranga')\")"
   ]
  },
  {
   "cell_type": "code",
   "execution_count": null,
   "id": "9d9646c3-e39a-4799-a430-b968e65e58bc",
   "metadata": {},
   "outputs": [],
   "source": [
    "spark.sql(\"select * from t1\").show()"
   ]
  },
  {
   "cell_type": "code",
   "execution_count": null,
   "id": "c1394f55-4290-4ff3-85fe-be8a53a8015c",
   "metadata": {},
   "outputs": [],
   "source": [
    "spark.stop()"
   ]
  }
 ],
 "metadata": {
  "kernelspec": {
   "display_name": "Python 3 (ipykernel)",
   "language": "python",
   "name": "python3"
  },
  "language_info": {
   "codemirror_mode": {
    "name": "ipython",
    "version": 3
   },
   "file_extension": ".py",
   "mimetype": "text/x-python",
   "name": "python",
   "nbconvert_exporter": "python",
   "pygments_lexer": "ipython3",
   "version": "3.11.6"
  }
 },
 "nbformat": 4,
 "nbformat_minor": 5
}
